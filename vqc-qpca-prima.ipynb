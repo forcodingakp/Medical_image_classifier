{
 "cells": [
  {
   "cell_type": "code",
   "execution_count": 1,
   "id": "8ee51a6c",
   "metadata": {
    "_cell_guid": "b1076dfc-b9ad-4769-8c92-a6c4dae69d19",
    "_uuid": "8f2839f25d086af736a60e9eeb907d3b93b6e0e5",
    "execution": {
     "iopub.execute_input": "2025-05-12T08:11:20.604116Z",
     "iopub.status.busy": "2025-05-12T08:11:20.603500Z",
     "iopub.status.idle": "2025-05-12T08:11:30.010333Z",
     "shell.execute_reply": "2025-05-12T08:11:30.009570Z"
    },
    "papermill": {
     "duration": 9.41167,
     "end_time": "2025-05-12T08:11:30.011733",
     "exception": false,
     "start_time": "2025-05-12T08:11:20.600063",
     "status": "completed"
    },
    "tags": []
   },
   "outputs": [
    {
     "name": "stdout",
     "output_type": "stream",
     "text": [
      "Collecting pennylane-lightning[gpu]\r\n",
      "  Downloading pennylane_lightning-0.41.1-cp311-cp311-manylinux_2_28_x86_64.whl.metadata (12 kB)\r\n",
      "Collecting pennylane>=0.41 (from pennylane-lightning[gpu])\r\n",
      "  Downloading PennyLane-0.41.1-py3-none-any.whl.metadata (10 kB)\r\n",
      "Collecting scipy-openblas32>=0.3.26 (from pennylane-lightning[gpu])\r\n",
      "  Downloading scipy_openblas32-0.3.29.0.0-py3-none-manylinux_2_17_x86_64.manylinux2014_x86_64.whl.metadata (56 kB)\r\n",
      "\u001b[2K     \u001b[90m━━━━━━━━━━━━━━━━━━━━━━━━━━━━━━━━━━━━━━━━\u001b[0m \u001b[32m56.1/56.1 kB\u001b[0m \u001b[31m3.9 MB/s\u001b[0m eta \u001b[36m0:00:00\u001b[0m\r\n",
      "\u001b[?25hCollecting pennylane-lightning-gpu (from pennylane-lightning[gpu])\r\n",
      "  Downloading pennylane_lightning_gpu-0.41.1-cp311-cp311-manylinux_2_28_x86_64.whl.metadata (12 kB)\r\n",
      "Requirement already satisfied: numpy in /usr/local/lib/python3.11/dist-packages (from pennylane>=0.41->pennylane-lightning[gpu]) (1.26.4)\r\n",
      "Requirement already satisfied: scipy in /usr/local/lib/python3.11/dist-packages (from pennylane>=0.41->pennylane-lightning[gpu]) (1.15.2)\r\n",
      "Requirement already satisfied: networkx in /usr/local/lib/python3.11/dist-packages (from pennylane>=0.41->pennylane-lightning[gpu]) (3.4.2)\r\n",
      "Collecting rustworkx>=0.14.0 (from pennylane>=0.41->pennylane-lightning[gpu])\r\n",
      "  Downloading rustworkx-0.16.0-cp39-abi3-manylinux_2_17_x86_64.manylinux2014_x86_64.whl.metadata (10 kB)\r\n",
      "Requirement already satisfied: autograd in /usr/local/lib/python3.11/dist-packages (from pennylane>=0.41->pennylane-lightning[gpu]) (1.7.0)\r\n",
      "Collecting tomlkit (from pennylane>=0.41->pennylane-lightning[gpu])\r\n",
      "  Downloading tomlkit-0.13.2-py3-none-any.whl.metadata (2.7 kB)\r\n",
      "Collecting appdirs (from pennylane>=0.41->pennylane-lightning[gpu])\r\n",
      "  Downloading appdirs-1.4.4-py2.py3-none-any.whl.metadata (9.0 kB)\r\n",
      "Collecting autoray>=0.6.11 (from pennylane>=0.41->pennylane-lightning[gpu])\r\n",
      "  Downloading autoray-0.7.1-py3-none-any.whl.metadata (5.8 kB)\r\n",
      "Requirement already satisfied: cachetools in /usr/local/lib/python3.11/dist-packages (from pennylane>=0.41->pennylane-lightning[gpu]) (5.5.2)\r\n",
      "Requirement already satisfied: requests in /usr/local/lib/python3.11/dist-packages (from pennylane>=0.41->pennylane-lightning[gpu]) (2.32.3)\r\n",
      "Requirement already satisfied: typing-extensions in /usr/local/lib/python3.11/dist-packages (from pennylane>=0.41->pennylane-lightning[gpu]) (4.13.1)\r\n",
      "Requirement already satisfied: packaging in /usr/local/lib/python3.11/dist-packages (from pennylane>=0.41->pennylane-lightning[gpu]) (24.2)\r\n",
      "Collecting diastatic-malt (from pennylane>=0.41->pennylane-lightning[gpu])\r\n",
      "  Downloading diastatic_malt-2.15.2-py3-none-any.whl.metadata (2.6 kB)\r\n",
      "Collecting custatevec-cu12 (from pennylane-lightning-gpu->pennylane-lightning[gpu])\r\n",
      "  Downloading custatevec_cu12-1.8.0-py3-none-manylinux2014_x86_64.whl.metadata (2.5 kB)\r\n",
      "Requirement already satisfied: nvidia-nvjitlink-cu12 in /usr/local/lib/python3.11/dist-packages (from pennylane-lightning-gpu->pennylane-lightning[gpu]) (12.8.93)\r\n",
      "Requirement already satisfied: nvidia-cusparse-cu12 in /usr/local/lib/python3.11/dist-packages (from pennylane-lightning-gpu->pennylane-lightning[gpu]) (12.5.8.93)\r\n",
      "Requirement already satisfied: nvidia-cublas-cu12 in /usr/local/lib/python3.11/dist-packages (from pennylane-lightning-gpu->pennylane-lightning[gpu]) (12.8.4.1)\r\n",
      "Requirement already satisfied: nvidia-cuda-runtime-cu12 in /usr/local/lib/python3.11/dist-packages (from pennylane-lightning-gpu->pennylane-lightning[gpu]) (12.4.127)\r\n",
      "Requirement already satisfied: mkl_fft in /usr/local/lib/python3.11/dist-packages (from numpy->pennylane>=0.41->pennylane-lightning[gpu]) (1.3.8)\r\n",
      "Requirement already satisfied: mkl_random in /usr/local/lib/python3.11/dist-packages (from numpy->pennylane>=0.41->pennylane-lightning[gpu]) (1.2.4)\r\n",
      "Requirement already satisfied: mkl_umath in /usr/local/lib/python3.11/dist-packages (from numpy->pennylane>=0.41->pennylane-lightning[gpu]) (0.1.1)\r\n",
      "Requirement already satisfied: mkl in /usr/local/lib/python3.11/dist-packages (from numpy->pennylane>=0.41->pennylane-lightning[gpu]) (2025.1.0)\r\n",
      "Requirement already satisfied: tbb4py in /usr/local/lib/python3.11/dist-packages (from numpy->pennylane>=0.41->pennylane-lightning[gpu]) (2022.1.0)\r\n",
      "Requirement already satisfied: mkl-service in /usr/local/lib/python3.11/dist-packages (from numpy->pennylane>=0.41->pennylane-lightning[gpu]) (2.4.1)\r\n",
      "Requirement already satisfied: astunparse in /usr/local/lib/python3.11/dist-packages (from diastatic-malt->pennylane>=0.41->pennylane-lightning[gpu]) (1.6.3)\r\n",
      "Requirement already satisfied: gast in /usr/local/lib/python3.11/dist-packages (from diastatic-malt->pennylane>=0.41->pennylane-lightning[gpu]) (0.6.0)\r\n",
      "Requirement already satisfied: termcolor in /usr/local/lib/python3.11/dist-packages (from diastatic-malt->pennylane>=0.41->pennylane-lightning[gpu]) (2.5.0)\r\n",
      "Requirement already satisfied: charset-normalizer<4,>=2 in /usr/local/lib/python3.11/dist-packages (from requests->pennylane>=0.41->pennylane-lightning[gpu]) (3.4.1)\r\n",
      "Requirement already satisfied: idna<4,>=2.5 in /usr/local/lib/python3.11/dist-packages (from requests->pennylane>=0.41->pennylane-lightning[gpu]) (3.10)\r\n",
      "Requirement already satisfied: urllib3<3,>=1.21.1 in /usr/local/lib/python3.11/dist-packages (from requests->pennylane>=0.41->pennylane-lightning[gpu]) (2.3.0)\r\n",
      "Requirement already satisfied: certifi>=2017.4.17 in /usr/local/lib/python3.11/dist-packages (from requests->pennylane>=0.41->pennylane-lightning[gpu]) (2025.1.31)\r\n",
      "Requirement already satisfied: wheel<1.0,>=0.23.0 in /usr/local/lib/python3.11/dist-packages (from astunparse->diastatic-malt->pennylane>=0.41->pennylane-lightning[gpu]) (0.45.1)\r\n",
      "Requirement already satisfied: six<2.0,>=1.6.1 in /usr/local/lib/python3.11/dist-packages (from astunparse->diastatic-malt->pennylane>=0.41->pennylane-lightning[gpu]) (1.17.0)\r\n",
      "Requirement already satisfied: intel-openmp<2026,>=2024 in /usr/local/lib/python3.11/dist-packages (from mkl->numpy->pennylane>=0.41->pennylane-lightning[gpu]) (2024.2.0)\r\n",
      "Requirement already satisfied: tbb==2022.* in /usr/local/lib/python3.11/dist-packages (from mkl->numpy->pennylane>=0.41->pennylane-lightning[gpu]) (2022.1.0)\r\n",
      "Requirement already satisfied: tcmlib==1.* in /usr/local/lib/python3.11/dist-packages (from tbb==2022.*->mkl->numpy->pennylane>=0.41->pennylane-lightning[gpu]) (1.2.0)\r\n",
      "Requirement already satisfied: intel-cmplr-lib-rt in /usr/local/lib/python3.11/dist-packages (from mkl_umath->numpy->pennylane>=0.41->pennylane-lightning[gpu]) (2024.2.0)\r\n",
      "Requirement already satisfied: intel-cmplr-lib-ur==2024.2.0 in /usr/local/lib/python3.11/dist-packages (from intel-openmp<2026,>=2024->mkl->numpy->pennylane>=0.41->pennylane-lightning[gpu]) (2024.2.0)\r\n",
      "Downloading PennyLane-0.41.1-py3-none-any.whl (2.3 MB)\r\n",
      "\u001b[2K   \u001b[90m━━━━━━━━━━━━━━━━━━━━━━━━━━━━━━━━━━━━━━━━\u001b[0m \u001b[32m2.3/2.3 MB\u001b[0m \u001b[31m75.0 MB/s\u001b[0m eta \u001b[36m0:00:00\u001b[0m\r\n",
      "\u001b[?25hDownloading pennylane_lightning-0.41.1-cp311-cp311-manylinux_2_28_x86_64.whl (2.5 MB)\r\n",
      "\u001b[2K   \u001b[90m━━━━━━━━━━━━━━━━━━━━━━━━━━━━━━━━━━━━━━━━\u001b[0m \u001b[32m2.5/2.5 MB\u001b[0m \u001b[31m58.1 MB/s\u001b[0m eta \u001b[36m0:00:00\u001b[0m\r\n",
      "\u001b[?25hDownloading scipy_openblas32-0.3.29.0.0-py3-none-manylinux_2_17_x86_64.manylinux2014_x86_64.whl (8.6 MB)\r\n",
      "\u001b[2K   \u001b[90m━━━━━━━━━━━━━━━━━━━━━━━━━━━━━━━━━━━━━━━━\u001b[0m \u001b[32m8.6/8.6 MB\u001b[0m \u001b[31m90.4 MB/s\u001b[0m eta \u001b[36m0:00:00\u001b[0m\r\n",
      "\u001b[?25hDownloading pennylane_lightning_gpu-0.41.1-cp311-cp311-manylinux_2_28_x86_64.whl (1.0 MB)\r\n",
      "\u001b[2K   \u001b[90m━━━━━━━━━━━━━━━━━━━━━━━━━━━━━━━━━━━━━━━━\u001b[0m \u001b[32m1.0/1.0 MB\u001b[0m \u001b[31m48.6 MB/s\u001b[0m eta \u001b[36m0:00:00\u001b[0m\r\n",
      "\u001b[?25hDownloading autoray-0.7.1-py3-none-any.whl (930 kB)\r\n",
      "\u001b[2K   \u001b[90m━━━━━━━━━━━━━━━━━━━━━━━━━━━━━━━━━━━━━━━━\u001b[0m \u001b[32m930.8/930.8 kB\u001b[0m \u001b[31m47.5 MB/s\u001b[0m eta \u001b[36m0:00:00\u001b[0m\r\n",
      "\u001b[?25hDownloading rustworkx-0.16.0-cp39-abi3-manylinux_2_17_x86_64.manylinux2014_x86_64.whl (2.1 MB)\r\n",
      "\u001b[2K   \u001b[90m━━━━━━━━━━━━━━━━━━━━━━━━━━━━━━━━━━━━━━━━\u001b[0m \u001b[32m2.1/2.1 MB\u001b[0m \u001b[31m72.6 MB/s\u001b[0m eta \u001b[36m0:00:00\u001b[0m\r\n",
      "\u001b[?25hDownloading appdirs-1.4.4-py2.py3-none-any.whl (9.6 kB)\r\n",
      "Downloading custatevec_cu12-1.8.0-py3-none-manylinux2014_x86_64.whl (44.3 MB)\r\n",
      "\u001b[2K   \u001b[90m━━━━━━━━━━━━━━━━━━━━━━━━━━━━━━━━━━━━━━━━\u001b[0m \u001b[32m44.3/44.3 MB\u001b[0m \u001b[31m39.1 MB/s\u001b[0m eta \u001b[36m0:00:00\u001b[0m\r\n",
      "\u001b[?25hDownloading diastatic_malt-2.15.2-py3-none-any.whl (167 kB)\r\n",
      "\u001b[2K   \u001b[90m━━━━━━━━━━━━━━━━━━━━━━━━━━━━━━━━━━━━━━━━\u001b[0m \u001b[32m167.9/167.9 kB\u001b[0m \u001b[31m12.2 MB/s\u001b[0m eta \u001b[36m0:00:00\u001b[0m\r\n",
      "\u001b[?25hDownloading tomlkit-0.13.2-py3-none-any.whl (37 kB)\r\n",
      "Installing collected packages: custatevec-cu12, appdirs, tomlkit, scipy-openblas32, autoray, diastatic-malt, rustworkx, pennylane-lightning, pennylane, pennylane-lightning-gpu\r\n",
      "Successfully installed appdirs-1.4.4 autoray-0.7.1 custatevec-cu12-1.8.0 diastatic-malt-2.15.2 pennylane-0.41.1 pennylane-lightning-0.41.1 pennylane-lightning-gpu-0.41.1 rustworkx-0.16.0 scipy-openblas32-0.3.29.0.0 tomlkit-0.13.2\r\n"
     ]
    }
   ],
   "source": [
    "!pip install pennylane-lightning[gpu] "
   ]
  },
  {
   "cell_type": "code",
   "execution_count": 2,
   "id": "5c5c0392",
   "metadata": {
    "execution": {
     "iopub.execute_input": "2025-05-12T08:11:30.019411Z",
     "iopub.status.busy": "2025-05-12T08:11:30.019178Z",
     "iopub.status.idle": "2025-05-12T08:11:31.407517Z",
     "shell.execute_reply": "2025-05-12T08:11:31.406964Z"
    },
    "papermill": {
     "duration": 1.393564,
     "end_time": "2025-05-12T08:11:31.408913",
     "exception": false,
     "start_time": "2025-05-12T08:11:30.015349",
     "status": "completed"
    },
    "tags": []
   },
   "outputs": [],
   "source": [
    "import pandas as pd\n",
    "df = pd.read_csv(\"/kaggle/input/pima-indians-diabetes-database/diabetes.csv\") \n",
    "df.describe()\n",
    "X = df.drop(\"Outcome\", axis=1).values\n",
    "y = df[\"Outcome\"].values"
   ]
  },
  {
   "cell_type": "code",
   "execution_count": 3,
   "id": "af8753d4",
   "metadata": {
    "execution": {
     "iopub.execute_input": "2025-05-12T08:11:31.416350Z",
     "iopub.status.busy": "2025-05-12T08:11:31.416131Z",
     "iopub.status.idle": "2025-05-12T08:11:36.214011Z",
     "shell.execute_reply": "2025-05-12T08:11:36.213373Z"
    },
    "papermill": {
     "duration": 4.803196,
     "end_time": "2025-05-12T08:11:36.215385",
     "exception": false,
     "start_time": "2025-05-12T08:11:31.412189",
     "status": "completed"
    },
    "tags": []
   },
   "outputs": [
    {
     "name": "stderr",
     "output_type": "stream",
     "text": [
      "/usr/local/lib/python3.11/dist-packages/pennylane/capture/capture_operators.py:33: RuntimeWarning: PennyLane is not yet compatible with JAX versions > 0.4.28. You have version 0.4.33 installed. Please downgrade JAX to <=0.4.28 to avoid runtime errors.\n",
      "  warnings.warn(\n"
     ]
    }
   ],
   "source": [
    "import pennylane as qml\n",
    "import pennylane.numpy as np\n",
    "from sklearn.datasets import load_breast_cancer\n",
    "from sklearn.model_selection import train_test_split\n",
    "from sklearn.preprocessing import StandardScaler, normalize\n",
    "from sklearn.metrics import accuracy_score\n",
    "\n",
    "# Load and normalize 25 features\n",
    "# data = load_breast_cancer()\n",
    "# X = data.data[:, :25]\n",
    "# y = data.target\n",
    "\n",
    "# Split and normalize (L2 norm for amplitude encoding simulation)\n",
    "X_train, X_test, y_train, y_test = train_test_split(X, y, stratify=y, test_size=0.2, random_state=42)\n",
    "scaler = StandardScaler()\n",
    "X_train = normalize(scaler.fit_transform(X_train), norm='l2')\n",
    "X_test = normalize(scaler.transform(X_test), norm='l2')\n",
    "\n",
    "# Data augmentation\n",
    "X_train_aug = X_train + np.random.normal(0, 0.01, X_train.shape)\n",
    "X_train = np.vstack([X_train, X_train_aug])\n",
    "y_train = np.hstack([y_train, y_train])\n",
    "\n",
    "# Simulated qPCA to reduce to 5D\n",
    "# This follows the structure inspired by improved QPCA algorithms that use the density matrix\n",
    "# as the covariance matrix to extract principal components efficiently.\n",
    "def simulate_qpca(X, num_components=5):\n",
    "    rho = sum(np.outer(x, x) for x in X) / len(X)  # Density matrix\n",
    "    eigvals, eigvecs = np.linalg.eigh(rho)\n",
    "    top_indices = np.argsort(eigvals)[-num_components:]\n",
    "    top_vectors = eigvecs[:, top_indices]\n",
    "    return X @ top_vectors\n",
    "\n",
    "X_train = simulate_qpca(X_train, 5)\n",
    "X_test = simulate_qpca(X_test, 5)\n",
    "\n",
    "# Quantum device with 5 wires\n",
    "dev = qml.device(\"lightning.qubit\", wires=5)\n",
    "\n",
    "# Variational circuit for 5 qubits\n",
    "def variational_block(x, weights):\n",
    "    for i in range(5):\n",
    "        qml.RY(x[i], wires=i)\n",
    "        qml.RZ(x[i] ** 2, wires=i)\n",
    "    for i in range(5):\n",
    "        qml.RY(weights[i], wires=i)\n",
    "    for i in range(4):\n",
    "        qml.CNOT(wires=[i, i + 1])\n",
    "    qml.CNOT(wires=[4, 0])\n",
    "\n",
    "@qml.qnode(dev)\n",
    "def quantum_node(x, weights):\n",
    "    variational_block(x, weights)\n",
    "    return [qml.expval(qml.PauliZ(i)) for i in range(5)]\n",
    "\n",
    "# Hybrid model\n",
    "def sigmoid(x):\n",
    "    return 1 / (1 + np.exp(-x))\n",
    "\n",
    "def leaky_relu(x, alpha=0.01):\n",
    "    return np.where(x > 0, x, alpha * x)\n",
    "\n",
    "def hybrid_model(x, params):\n",
    "    q_out = np.array(quantum_node(x, params[:5]), requires_grad=True)\n",
    "    hidden = leaky_relu(np.dot(params[5:10], q_out) + params[10])\n",
    "    output = leaky_relu(np.dot(params[11:16], hidden) + params[16])\n",
    "    final = sigmoid(np.dot(params[17:22], output) + params[22])\n",
    "    return final\n",
    "\n",
    "# Weighted BCE\n",
    "def weighted_bce(preds, labels, pos_weight):\n",
    "    return -np.mean(pos_weight * labels * np.log(preds + 1e-6) +\n",
    "                    (1 - labels) * np.log(1 - preds + 1e-6))\n",
    "\n",
    "# Cost\n",
    "class_weights = np.array([1.0, len(y_train) / (2 * np.bincount(y_train)[1])])\n",
    "\n",
    "def cost(params, X, y):\n",
    "    preds = np.array([hybrid_model(x, params) for x in X], requires_grad=True)\n",
    "    bce = weighted_bce(preds, y, pos_weight=class_weights[1])\n",
    "    reg = 0.001 * np.sum(params ** 2)\n",
    "    return bce + reg\n",
    "\n",
    "def compute_accuracy(params, X, y):\n",
    "    preds = [hybrid_model(x, params) > 0.5 for x in X]\n",
    "    return accuracy_score(y, preds)\n",
    "\n",
    "\n"
   ]
  },
  {
   "cell_type": "code",
   "execution_count": 4,
   "id": "964021eb",
   "metadata": {
    "execution": {
     "iopub.execute_input": "2025-05-12T08:11:36.222816Z",
     "iopub.status.busy": "2025-05-12T08:11:36.222406Z",
     "iopub.status.idle": "2025-05-12T08:11:36.226836Z",
     "shell.execute_reply": "2025-05-12T08:11:36.226187Z"
    },
    "papermill": {
     "duration": 0.009176,
     "end_time": "2025-05-12T08:11:36.227916",
     "exception": false,
     "start_time": "2025-05-12T08:11:36.218740",
     "status": "completed"
    },
    "tags": []
   },
   "outputs": [],
   "source": [
    "# Training\n",
    "np.random.seed(42)\n",
    "total_params = 23  # 5 (quantum) + 5+1 + 5+1 + 5+1\n",
    "params = np.random.uniform(-0.1, 0.1, total_params, requires_grad=True)\n",
    "\n",
    "opt = qml.AdamOptimizer(0.1)\n",
    "epochs = 200\n",
    "best_acc = 0\n",
    "best_epo = 0\n",
    "train_acc_list = []\n",
    "test_acc_list = []\n",
    "loss_list = []\n",
    "\n"
   ]
  },
  {
   "cell_type": "code",
   "execution_count": 5,
   "id": "639510cf",
   "metadata": {
    "execution": {
     "iopub.execute_input": "2025-05-12T08:11:36.234603Z",
     "iopub.status.busy": "2025-05-12T08:11:36.234406Z",
     "iopub.status.idle": "2025-05-12T09:15:58.535223Z",
     "shell.execute_reply": "2025-05-12T09:15:58.534565Z"
    },
    "papermill": {
     "duration": 3862.305803,
     "end_time": "2025-05-12T09:15:58.536643",
     "exception": false,
     "start_time": "2025-05-12T08:11:36.230840",
     "status": "completed"
    },
    "tags": []
   },
   "outputs": [
    {
     "name": "stdout",
     "output_type": "stream",
     "text": [
      "Epoch 0 | Loss: 0.7908 | Train Acc: 0.6515 | Test Acc: 0.6494\n",
      "Epoch 10 | Loss: 0.7887 | Train Acc: 0.6515 | Test Acc: 0.6494\n",
      "Epoch 20 | Loss: 0.7886 | Train Acc: 0.6515 | Test Acc: 0.6494\n",
      "Epoch 30 | Loss: 0.7884 | Train Acc: 0.6515 | Test Acc: 0.6494\n",
      "Epoch 40 | Loss: 0.7882 | Train Acc: 0.6515 | Test Acc: 0.6494\n",
      "Epoch 50 | Loss: 0.7882 | Train Acc: 0.6515 | Test Acc: 0.6494\n",
      "Epoch 60 | Loss: 0.7882 | Train Acc: 0.6515 | Test Acc: 0.6494\n",
      "Epoch 70 | Loss: 0.7882 | Train Acc: 0.6515 | Test Acc: 0.6494\n",
      "Epoch 80 | Loss: 0.7882 | Train Acc: 0.6515 | Test Acc: 0.6494\n",
      "Epoch 90 | Loss: 0.7882 | Train Acc: 0.6515 | Test Acc: 0.6494\n",
      "Epoch 100 | Loss: 0.7882 | Train Acc: 0.6515 | Test Acc: 0.6494\n",
      "Epoch 110 | Loss: 0.7882 | Train Acc: 0.6515 | Test Acc: 0.6494\n",
      "Epoch 120 | Loss: 0.7882 | Train Acc: 0.6515 | Test Acc: 0.6494\n",
      "Epoch 130 | Loss: 0.7882 | Train Acc: 0.6515 | Test Acc: 0.6494\n",
      "Epoch 140 | Loss: 0.7882 | Train Acc: 0.6515 | Test Acc: 0.6494\n",
      "Epoch 150 | Loss: 0.7882 | Train Acc: 0.6515 | Test Acc: 0.6494\n",
      "Epoch 160 | Loss: 0.7882 | Train Acc: 0.6515 | Test Acc: 0.6494\n",
      "Epoch 170 | Loss: 0.7882 | Train Acc: 0.6515 | Test Acc: 0.6494\n",
      "Epoch 180 | Loss: 0.7882 | Train Acc: 0.6515 | Test Acc: 0.6494\n",
      "Epoch 190 | Loss: 0.7882 | Train Acc: 0.6515 | Test Acc: 0.6494\n"
     ]
    }
   ],
   "source": [
    "for epoch in range(epochs):\n",
    "    params = opt.step(lambda p: cost(p, X_train, y_train), params)\n",
    "    loss = cost(params, X_train, y_train)\n",
    "    train_acc = compute_accuracy(params, X_train, y_train)\n",
    "    test_acc = compute_accuracy(params, X_test, y_test)\n",
    "\n",
    "    train_acc_list.append(train_acc)\n",
    "    test_acc_list.append(test_acc)\n",
    "    loss_list.append(loss)\n",
    "    # print(\"epoch\")\n",
    "    if test_acc > best_acc:\n",
    "        best_acc = test_acc\n",
    "        best_epo = epoch\n",
    "    if epoch % 10 == 0:\n",
    "        print(f\"Epoch {epoch} | Loss: {loss:.4f} | Train Acc: {train_acc:.4f} | Test Acc: {test_acc:.4f}\")"
   ]
  },
  {
   "cell_type": "code",
   "execution_count": 6,
   "id": "323eff4e",
   "metadata": {
    "execution": {
     "iopub.execute_input": "2025-05-12T09:15:58.548470Z",
     "iopub.status.busy": "2025-05-12T09:15:58.548070Z",
     "iopub.status.idle": "2025-05-12T09:15:59.180322Z",
     "shell.execute_reply": "2025-05-12T09:15:59.179751Z"
    },
    "papermill": {
     "duration": 0.639506,
     "end_time": "2025-05-12T09:15:59.181928",
     "exception": false,
     "start_time": "2025-05-12T09:15:58.542422",
     "status": "completed"
    },
    "tags": []
   },
   "outputs": [
    {
     "name": "stdout",
     "output_type": "stream",
     "text": [
      "Final Evaluation on Test Set:\n",
      "Accuracy     : 0.6494\n",
      "Precision    : 0.0000\n",
      "Recall       : 0.0000\n",
      "F1 Score     : 0.0000\n",
      "ROC AUC      : 0.5000\n",
      "Confusion Matrix:\n",
      "[[100   0]\n",
      " [ 54   0]]\n"
     ]
    },
    {
     "name": "stderr",
     "output_type": "stream",
     "text": [
      "/usr/local/lib/python3.11/dist-packages/sklearn/metrics/_classification.py:1344: UndefinedMetricWarning: Precision is ill-defined and being set to 0.0 due to no predicted samples. Use `zero_division` parameter to control this behavior.\n",
      "  _warn_prf(average, modifier, msg_start, len(result))\n"
     ]
    }
   ],
   "source": [
    "from sklearn.metrics import confusion_matrix, precision_score, recall_score, f1_score, roc_auc_score\n",
    "\n",
    "final_preds = np.array([hybrid_model(x, params) for x in X_test])\n",
    "pred_labels = (final_preds > 0.5).astype(int)\n",
    "\n",
    "# Evaluation Metrics\n",
    "acc = accuracy_score(y_test, pred_labels)\n",
    "prec = precision_score(y_test, pred_labels)\n",
    "rec = recall_score(y_test, pred_labels)\n",
    "f1 = f1_score(y_test, pred_labels)\n",
    "roc_auc = roc_auc_score(y_test, final_preds)\n",
    "conf_matrix = confusion_matrix(y_test, pred_labels)\n",
    "\n",
    "print(\"Final Evaluation on Test Set:\")\n",
    "print(f\"Accuracy     : {acc:.4f}\")\n",
    "print(f\"Precision    : {prec:.4f}\")\n",
    "print(f\"Recall       : {rec:.4f}\")\n",
    "print(f\"F1 Score     : {f1:.4f}\")\n",
    "print(f\"ROC AUC      : {roc_auc:.4f}\")\n",
    "print(\"Confusion Matrix:\")\n",
    "print(conf_matrix)"
   ]
  },
  {
   "cell_type": "code",
   "execution_count": 7,
   "id": "302f9160",
   "metadata": {
    "execution": {
     "iopub.execute_input": "2025-05-12T09:15:59.191149Z",
     "iopub.status.busy": "2025-05-12T09:15:59.190645Z",
     "iopub.status.idle": "2025-05-12T09:15:59.454158Z",
     "shell.execute_reply": "2025-05-12T09:15:59.453322Z"
    },
    "papermill": {
     "duration": 0.269122,
     "end_time": "2025-05-12T09:15:59.455322",
     "exception": false,
     "start_time": "2025-05-12T09:15:59.186200",
     "status": "completed"
    },
    "tags": []
   },
   "outputs": [
    {
     "data": {
      "image/png": "[encoded data removed]",
      "text/plain": [
       "<Figure size 1000x600 with 1 Axes>"
      ]
     },
     "metadata": {},
     "output_type": "display_data"
    }
   ],
   "source": [
    "import matplotlib.pyplot as plt\n",
    "\n",
    "plt.figure(figsize=(10, 6))\n",
    "plt.plot(train_acc_list, label='Train Accuracy')\n",
    "plt.plot(test_acc_list, label='Test Accuracy')\n",
    "plt.plot(loss_list, label='Loss', linestyle='--')\n",
    "plt.xlabel(\"Epochs\")\n",
    "plt.ylabel(\"Metrics\")\n",
    "plt.title(\"Training Accuracy, Test Accuracy, and Loss\")\n",
    "plt.legend()\n",
    "plt.grid(True)\n",
    "plt.show()"
   ]
  },
  {
   "cell_type": "code",
   "execution_count": null,
   "id": "9e3a2477",
   "metadata": {
    "papermill": {
     "duration": 0.004337,
     "end_time": "2025-05-12T09:15:59.464605",
     "exception": false,
     "start_time": "2025-05-12T09:15:59.460268",
     "status": "completed"
    },
    "tags": []
   },
   "outputs": [],
   "source": []
  }
 ],
 "metadata": {
  "kaggle": {
   "accelerator": "gpu",
   "dataSources": [
    {
     "datasetId": 228,
     "sourceId": 482,
     "sourceType": "datasetVersion"
    },
    {
     "datasetId": 7394369,
     "sourceId": 11777926,
     "sourceType": "datasetVersion"
    },
    {
     "sourceId": 27685252,
     "sourceType": "kernelVersion"
    }
   ],
   "dockerImageVersionId": 31011,
   "isGpuEnabled": true,
   "isInternetEnabled": true,
   "language": "python",
   "sourceType": "notebook"
  },
  "kernelspec": {
   "display_name": "Python 3",
   "language": "python",
   "name": "python3"
  },
  "language_info": {
   "codemirror_mode": {
    "name": "ipython",
    "version": 3
   },
   "file_extension": ".py",
   "mimetype": "text/x-python",
   "name": "python",
   "nbconvert_exporter": "python",
   "pygments_lexer": "ipython3",
   "version": "3.11.11"
  },
  "papermill": {
   "default_parameters": {},
   "duration": 3885.623023,
   "end_time": "2025-05-12T09:16:02.338220",
   "environment_variables": {},
   "exception": null,
   "input_path": "__notebook__.ipynb",
   "output_path": "__notebook__.ipynb",
   "parameters": {},
   "start_time": "2025-05-12T08:11:16.715197",
   "version": "2.6.0"
  }
 },
 "nbformat": 4,
 "nbformat_minor": 5
}
