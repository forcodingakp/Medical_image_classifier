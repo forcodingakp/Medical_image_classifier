{
 "cells": [
  {
   "cell_type": "code",
   "execution_count": 1,
   "id": "23833b04",
   "metadata": {
    "_cell_guid": "b1076dfc-b9ad-4769-8c92-a6c4dae69d19",
    "_uuid": "8f2839f25d086af736a60e9eeb907d3b93b6e0e5",
    "execution": {
     "iopub.execute_input": "2025-05-30T17:19:01.489343Z",
     "iopub.status.busy": "2025-05-30T17:19:01.489135Z",
     "iopub.status.idle": "2025-05-30T17:19:12.490922Z",
     "shell.execute_reply": "2025-05-30T17:19:12.489913Z"
    },
    "papermill": {
     "duration": 11.006473,
     "end_time": "2025-05-30T17:19:12.492547",
     "exception": false,
     "start_time": "2025-05-30T17:19:01.486074",
     "status": "completed"
    },
    "tags": []
   },
   "outputs": [
    {
     "name": "stdout",
     "output_type": "stream",
     "text": [
      "Collecting pennylane-lightning[gpu]\r\n",
      "  Downloading pennylane_lightning-0.41.1-cp311-cp311-manylinux_2_28_x86_64.whl.metadata (12 kB)\r\n",
      "Collecting pennylane>=0.41 (from pennylane-lightning[gpu])\r\n",
      "  Downloading PennyLane-0.41.1-py3-none-any.whl.metadata (10 kB)\r\n",
      "Collecting scipy-openblas32>=0.3.26 (from pennylane-lightning[gpu])\r\n",
      "  Downloading scipy_openblas32-0.3.29.265.0-py3-none-manylinux_2_17_x86_64.manylinux2014_x86_64.whl.metadata (56 kB)\r\n",
      "\u001b[2K     \u001b[90m━━━━━━━━━━━━━━━━━━━━━━━━━━━━━━━━━━━━━━━━\u001b[0m \u001b[32m56.1/56.1 kB\u001b[0m \u001b[31m2.2 MB/s\u001b[0m eta \u001b[36m0:00:00\u001b[0m\r\n",
      "\u001b[?25hCollecting pennylane-lightning-gpu (from pennylane-lightning[gpu])\r\n",
      "  Downloading pennylane_lightning_gpu-0.41.1-cp311-cp311-manylinux_2_28_x86_64.whl.metadata (12 kB)\r\n",
      "Requirement already satisfied: numpy in /usr/local/lib/python3.11/dist-packages (from pennylane>=0.41->pennylane-lightning[gpu]) (1.26.4)\r\n",
      "Requirement already satisfied: scipy in /usr/local/lib/python3.11/dist-packages (from pennylane>=0.41->pennylane-lightning[gpu]) (1.15.2)\r\n",
      "Requirement already satisfied: networkx in /usr/local/lib/python3.11/dist-packages (from pennylane>=0.41->pennylane-lightning[gpu]) (3.4.2)\r\n",
      "Collecting rustworkx>=0.14.0 (from pennylane>=0.41->pennylane-lightning[gpu])\r\n",
      "  Downloading rustworkx-0.16.0-cp39-abi3-manylinux_2_17_x86_64.manylinux2014_x86_64.whl.metadata (10 kB)\r\n",
      "Requirement already satisfied: autograd in /usr/local/lib/python3.11/dist-packages (from pennylane>=0.41->pennylane-lightning[gpu]) (1.7.0)\r\n",
      "Collecting tomlkit (from pennylane>=0.41->pennylane-lightning[gpu])\r\n",
      "  Downloading tomlkit-0.13.2-py3-none-any.whl.metadata (2.7 kB)\r\n",
      "Collecting appdirs (from pennylane>=0.41->pennylane-lightning[gpu])\r\n",
      "  Downloading appdirs-1.4.4-py2.py3-none-any.whl.metadata (9.0 kB)\r\n",
      "Collecting autoray>=0.6.11 (from pennylane>=0.41->pennylane-lightning[gpu])\r\n",
      "  Downloading autoray-0.7.1-py3-none-any.whl.metadata (5.8 kB)\r\n",
      "Requirement already satisfied: cachetools in /usr/local/lib/python3.11/dist-packages (from pennylane>=0.41->pennylane-lightning[gpu]) (5.5.2)\r\n",
      "Requirement already satisfied: requests in /usr/local/lib/python3.11/dist-packages (from pennylane>=0.41->pennylane-lightning[gpu]) (2.32.3)\r\n",
      "Requirement already satisfied: typing-extensions in /usr/local/lib/python3.11/dist-packages (from pennylane>=0.41->pennylane-lightning[gpu]) (4.13.2)\r\n",
      "Requirement already satisfied: packaging in /usr/local/lib/python3.11/dist-packages (from pennylane>=0.41->pennylane-lightning[gpu]) (25.0)\r\n",
      "Collecting diastatic-malt (from pennylane>=0.41->pennylane-lightning[gpu])\r\n",
      "  Downloading diastatic_malt-2.15.2-py3-none-any.whl.metadata (2.6 kB)\r\n",
      "Collecting custatevec-cu12 (from pennylane-lightning-gpu->pennylane-lightning[gpu])\r\n",
      "  Downloading custatevec_cu12-1.8.0-py3-none-manylinux2014_x86_64.whl.metadata (2.5 kB)\r\n",
      "Requirement already satisfied: nvidia-nvjitlink-cu12 in /usr/local/lib/python3.11/dist-packages (from pennylane-lightning-gpu->pennylane-lightning[gpu]) (12.9.41)\r\n",
      "Requirement already satisfied: nvidia-cusparse-cu12 in /usr/local/lib/python3.11/dist-packages (from pennylane-lightning-gpu->pennylane-lightning[gpu]) (12.5.9.5)\r\n",
      "Requirement already satisfied: nvidia-cublas-cu12 in /usr/local/lib/python3.11/dist-packages (from pennylane-lightning-gpu->pennylane-lightning[gpu]) (12.9.0.13)\r\n",
      "Requirement already satisfied: nvidia-cuda-runtime-cu12 in /usr/local/lib/python3.11/dist-packages (from pennylane-lightning-gpu->pennylane-lightning[gpu]) (12.4.127)\r\n",
      "Requirement already satisfied: mkl_fft in /usr/local/lib/python3.11/dist-packages (from numpy->pennylane>=0.41->pennylane-lightning[gpu]) (1.3.8)\r\n",
      "Requirement already satisfied: mkl_random in /usr/local/lib/python3.11/dist-packages (from numpy->pennylane>=0.41->pennylane-lightning[gpu]) (1.2.4)\r\n",
      "Requirement already satisfied: mkl_umath in /usr/local/lib/python3.11/dist-packages (from numpy->pennylane>=0.41->pennylane-lightning[gpu]) (0.1.1)\r\n",
      "Requirement already satisfied: mkl in /usr/local/lib/python3.11/dist-packages (from numpy->pennylane>=0.41->pennylane-lightning[gpu]) (2025.1.0)\r\n",
      "Requirement already satisfied: tbb4py in /usr/local/lib/python3.11/dist-packages (from numpy->pennylane>=0.41->pennylane-lightning[gpu]) (2022.1.0)\r\n",
      "Requirement already satisfied: mkl-service in /usr/local/lib/python3.11/dist-packages (from numpy->pennylane>=0.41->pennylane-lightning[gpu]) (2.4.1)\r\n",
      "Requirement already satisfied: astunparse in /usr/local/lib/python3.11/dist-packages (from diastatic-malt->pennylane>=0.41->pennylane-lightning[gpu]) (1.6.3)\r\n",
      "Requirement already satisfied: gast in /usr/local/lib/python3.11/dist-packages (from diastatic-malt->pennylane>=0.41->pennylane-lightning[gpu]) (0.6.0)\r\n",
      "Requirement already satisfied: termcolor in /usr/local/lib/python3.11/dist-packages (from diastatic-malt->pennylane>=0.41->pennylane-lightning[gpu]) (3.0.1)\r\n",
      "Requirement already satisfied: charset-normalizer<4,>=2 in /usr/local/lib/python3.11/dist-packages (from requests->pennylane>=0.41->pennylane-lightning[gpu]) (3.4.2)\r\n",
      "Requirement already satisfied: idna<4,>=2.5 in /usr/local/lib/python3.11/dist-packages (from requests->pennylane>=0.41->pennylane-lightning[gpu]) (3.10)\r\n",
      "Requirement already satisfied: urllib3<3,>=1.21.1 in /usr/local/lib/python3.11/dist-packages (from requests->pennylane>=0.41->pennylane-lightning[gpu]) (2.4.0)\r\n",
      "Requirement already satisfied: certifi>=2017.4.17 in /usr/local/lib/python3.11/dist-packages (from requests->pennylane>=0.41->pennylane-lightning[gpu]) (2025.4.26)\r\n",
      "Requirement already satisfied: wheel<1.0,>=0.23.0 in /usr/local/lib/python3.11/dist-packages (from astunparse->diastatic-malt->pennylane>=0.41->pennylane-lightning[gpu]) (0.45.1)\r\n",
      "Requirement already satisfied: six<2.0,>=1.6.1 in /usr/local/lib/python3.11/dist-packages (from astunparse->diastatic-malt->pennylane>=0.41->pennylane-lightning[gpu]) (1.17.0)\r\n",
      "Requirement already satisfied: intel-openmp<2026,>=2024 in /usr/local/lib/python3.11/dist-packages (from mkl->numpy->pennylane>=0.41->pennylane-lightning[gpu]) (2024.2.0)\r\n",
      "Requirement already satisfied: tbb==2022.* in /usr/local/lib/python3.11/dist-packages (from mkl->numpy->pennylane>=0.41->pennylane-lightning[gpu]) (2022.1.0)\r\n",
      "Requirement already satisfied: tcmlib==1.* in /usr/local/lib/python3.11/dist-packages (from tbb==2022.*->mkl->numpy->pennylane>=0.41->pennylane-lightning[gpu]) (1.3.0)\r\n",
      "Requirement already satisfied: intel-cmplr-lib-rt in /usr/local/lib/python3.11/dist-packages (from mkl_umath->numpy->pennylane>=0.41->pennylane-lightning[gpu]) (2024.2.0)\r\n",
      "Requirement already satisfied: intel-cmplr-lib-ur==2024.2.0 in /usr/local/lib/python3.11/dist-packages (from intel-openmp<2026,>=2024->mkl->numpy->pennylane>=0.41->pennylane-lightning[gpu]) (2024.2.0)\r\n",
      "Downloading PennyLane-0.41.1-py3-none-any.whl (2.3 MB)\r\n",
      "\u001b[2K   \u001b[90m━━━━━━━━━━━━━━━━━━━━━━━━━━━━━━━━━━━━━━━━\u001b[0m \u001b[32m2.3/2.3 MB\u001b[0m \u001b[31m31.9 MB/s\u001b[0m eta \u001b[36m0:00:00\u001b[0m\r\n",
      "\u001b[?25hDownloading pennylane_lightning-0.41.1-cp311-cp311-manylinux_2_28_x86_64.whl (2.5 MB)\r\n",
      "\u001b[2K   \u001b[90m━━━━━━━━━━━━━━━━━━━━━━━━━━━━━━━━━━━━━━━━\u001b[0m \u001b[32m2.5/2.5 MB\u001b[0m \u001b[31m64.1 MB/s\u001b[0m eta \u001b[36m0:00:00\u001b[0m\r\n",
      "\u001b[?25hDownloading scipy_openblas32-0.3.29.265.0-py3-none-manylinux_2_17_x86_64.manylinux2014_x86_64.whl (8.6 MB)\r\n",
      "\u001b[2K   \u001b[90m━━━━━━━━━━━━━━━━━━━━━━━━━━━━━━━━━━━━━━━━\u001b[0m \u001b[32m8.6/8.6 MB\u001b[0m \u001b[31m94.5 MB/s\u001b[0m eta \u001b[36m0:00:00\u001b[0m\r\n",
      "\u001b[?25hDownloading pennylane_lightning_gpu-0.41.1-cp311-cp311-manylinux_2_28_x86_64.whl (1.0 MB)\r\n",
      "\u001b[2K   \u001b[90m━━━━━━━━━━━━━━━━━━━━━━━━━━━━━━━━━━━━━━━━\u001b[0m \u001b[32m1.0/1.0 MB\u001b[0m \u001b[31m51.2 MB/s\u001b[0m eta \u001b[36m0:00:00\u001b[0m\r\n",
      "\u001b[?25hDownloading autoray-0.7.1-py3-none-any.whl (930 kB)\r\n",
      "\u001b[2K   \u001b[90m━━━━━━━━━━━━━━━━━━━━━━━━━━━━━━━━━━━━━━━━\u001b[0m \u001b[32m930.8/930.8 kB\u001b[0m \u001b[31m36.3 MB/s\u001b[0m eta \u001b[36m0:00:00\u001b[0m\r\n",
      "\u001b[?25hDownloading rustworkx-0.16.0-cp39-abi3-manylinux_2_17_x86_64.manylinux2014_x86_64.whl (2.1 MB)\r\n",
      "\u001b[2K   \u001b[90m━━━━━━━━━━━━━━━━━━━━━━━━━━━━━━━━━━━━━━━━\u001b[0m \u001b[32m2.1/2.1 MB\u001b[0m \u001b[31m59.4 MB/s\u001b[0m eta \u001b[36m0:00:00\u001b[0m\r\n",
      "\u001b[?25hDownloading appdirs-1.4.4-py2.py3-none-any.whl (9.6 kB)\r\n",
      "Downloading custatevec_cu12-1.8.0-py3-none-manylinux2014_x86_64.whl (44.3 MB)\r\n",
      "\u001b[2K   \u001b[90m━━━━━━━━━━━━━━━━━━━━━━━━━━━━━━━━━━━━━━━━\u001b[0m \u001b[32m44.3/44.3 MB\u001b[0m \u001b[31m40.0 MB/s\u001b[0m eta \u001b[36m0:00:00\u001b[0m\r\n",
      "\u001b[?25hDownloading diastatic_malt-2.15.2-py3-none-any.whl (167 kB)\r\n",
      "\u001b[2K   \u001b[90m━━━━━━━━━━━━━━━━━━━━━━━━━━━━━━━━━━━━━━━━\u001b[0m \u001b[32m167.9/167.9 kB\u001b[0m \u001b[31m6.9 MB/s\u001b[0m eta \u001b[36m0:00:00\u001b[0m\r\n",
      "\u001b[?25hDownloading tomlkit-0.13.2-py3-none-any.whl (37 kB)\r\n",
      "Installing collected packages: custatevec-cu12, appdirs, tomlkit, scipy-openblas32, autoray, diastatic-malt, rustworkx, pennylane-lightning, pennylane, pennylane-lightning-gpu\r\n",
      "Successfully installed appdirs-1.4.4 autoray-0.7.1 custatevec-cu12-1.8.0 diastatic-malt-2.15.2 pennylane-0.41.1 pennylane-lightning-0.41.1 pennylane-lightning-gpu-0.41.1 rustworkx-0.16.0 scipy-openblas32-0.3.29.265.0 tomlkit-0.13.2\r\n"
     ]
    }
   ],
   "source": [
    "!pip install pennylane-lightning[gpu]"
   ]
  },
  {
   "cell_type": "code",
   "execution_count": 2,
   "id": "52c77bd3",
   "metadata": {
    "execution": {
     "iopub.execute_input": "2025-05-30T17:19:12.501172Z",
     "iopub.status.busy": "2025-05-30T17:19:12.500927Z",
     "iopub.status.idle": "2025-05-30T17:19:21.121765Z",
     "shell.execute_reply": "2025-05-30T17:19:21.121160Z"
    },
    "papermill": {
     "duration": 8.626497,
     "end_time": "2025-05-30T17:19:21.123211",
     "exception": false,
     "start_time": "2025-05-30T17:19:12.496714",
     "status": "completed"
    },
    "tags": []
   },
   "outputs": [
    {
     "name": "stderr",
     "output_type": "stream",
     "text": [
      "/usr/local/lib/python3.11/dist-packages/pennylane/capture/capture_operators.py:33: RuntimeWarning: PennyLane is not yet compatible with JAX versions > 0.4.28. You have version 0.5.2 installed. Please downgrade JAX to <=0.4.28 to avoid runtime errors.\n",
      "  warnings.warn(\n"
     ]
    }
   ],
   "source": [
    "import pennylane as qml\n",
    "import pennylane.numpy as np\n",
    "from sklearn.datasets import load_breast_cancer\n",
    "from sklearn.model_selection import train_test_split\n",
    "from sklearn.preprocessing import StandardScaler, normalize\n",
    "from sklearn.metrics import accuracy_score, f1_score, precision_score, recall_score\n",
    "import matplotlib.pyplot as plt\n",
    "\n",
    "# Load and preprocess data\n",
    "data = load_breast_cancer()\n",
    "X = data.data[:, :25]\n",
    "y = data.target\n"
   ]
  },
  {
   "cell_type": "code",
   "execution_count": 3,
   "id": "93111e1f",
   "metadata": {
    "execution": {
     "iopub.execute_input": "2025-05-30T17:19:21.132416Z",
     "iopub.status.busy": "2025-05-30T17:19:21.131955Z",
     "iopub.status.idle": "2025-05-30T17:19:21.190276Z",
     "shell.execute_reply": "2025-05-30T17:19:21.189711Z"
    },
    "papermill": {
     "duration": 0.064257,
     "end_time": "2025-05-30T17:19:21.191516",
     "exception": false,
     "start_time": "2025-05-30T17:19:21.127259",
     "status": "completed"
    },
    "tags": []
   },
   "outputs": [],
   "source": [
    "\n",
    "X_train, X_test, y_train, y_test = train_test_split(X, y, stratify=y, test_size=0.2, random_state=42)\n",
    "scaler = StandardScaler()\n",
    "X_train = normalize(scaler.fit_transform(X_train), norm='l2')\n",
    "X_test = normalize(scaler.transform(X_test), norm='l2')\n",
    "\n",
    "X_train_aug = X_train + np.random.normal(0, 0.01, X_train.shape)\n",
    "X_train = np.vstack([X_train, X_train_aug])\n",
    "y_train = np.hstack([y_train, y_train])\n"
   ]
  },
  {
   "cell_type": "code",
   "execution_count": 4,
   "id": "9735ecae",
   "metadata": {
    "execution": {
     "iopub.execute_input": "2025-05-30T17:19:21.200368Z",
     "iopub.status.busy": "2025-05-30T17:19:21.199823Z",
     "iopub.status.idle": "2025-05-30T17:19:21.369583Z",
     "shell.execute_reply": "2025-05-30T17:19:21.369007Z"
    },
    "papermill": {
     "duration": 0.175291,
     "end_time": "2025-05-30T17:19:21.370817",
     "exception": false,
     "start_time": "2025-05-30T17:19:21.195526",
     "status": "completed"
    },
    "tags": []
   },
   "outputs": [],
   "source": [
    "\n",
    "def pca(X, num_components=5):\n",
    "    rho = sum(np.outer(x, x) for x in X) / len(X)\n",
    "    eigvals, eigvecs = np.linalg.eigh(rho)\n",
    "    top_indices = np.argsort(eigvals)[-num_components:]\n",
    "    top_vectors = eigvecs[:, top_indices]\n",
    "    return X @ top_vectors\n",
    "\n",
    "X_train = pca(X_train, 5)\n",
    "X_test = pca(X_test, 5)\n",
    "\n"
   ]
  },
  {
   "cell_type": "code",
   "execution_count": 5,
   "id": "ef974715",
   "metadata": {
    "execution": {
     "iopub.execute_input": "2025-05-30T17:19:21.379466Z",
     "iopub.status.busy": "2025-05-30T17:19:21.378936Z",
     "iopub.status.idle": "2025-05-30T17:19:21.431203Z",
     "shell.execute_reply": "2025-05-30T17:19:21.430686Z"
    },
    "papermill": {
     "duration": 0.057716,
     "end_time": "2025-05-30T17:19:21.432283",
     "exception": false,
     "start_time": "2025-05-30T17:19:21.374567",
     "status": "completed"
    },
    "tags": []
   },
   "outputs": [],
   "source": [
    "dev = qml.device(\"lightning.qubit\", wires=5)\n",
    "\n",
    "def variational_block(x, weights):\n",
    "    for i in range(5):\n",
    "        qml.RY(x[i], wires=i)\n",
    "        qml.RZ(x[i] ** 2, wires=i)\n",
    "    for i in range(5):\n",
    "        qml.RY(weights[i], wires=i)\n",
    "    for i in range(4):\n",
    "        qml.CNOT(wires=[i, i + 1])\n",
    "    qml.CNOT(wires=[4, 0])\n",
    "\n",
    "@qml.qnode(dev)\n",
    "def quantum_node(x, weights):\n",
    "    variational_block(x, weights)\n",
    "    return [qml.expval(qml.PauliZ(i)) for i in range(5)]\n",
    "\n",
    "def sigmoid(x):\n",
    "    return 1 / (1 + np.exp(-x))\n",
    "\n",
    "def leaky_relu(x, alpha=0.01):\n",
    "    return np.where(x > 0, x, alpha * x)\n",
    "\n",
    "def hybrid_model(x, params):\n",
    "    q_out = np.array(quantum_node(x, params[:5]), requires_grad=True)\n",
    "    hidden = leaky_relu(np.dot(params[5:10], q_out) + params[10])\n",
    "    output = leaky_relu(np.dot(params[11:16], hidden) + params[16])\n",
    "    final = sigmoid(np.dot(params[17:22], output) + params[22])\n",
    "    return final\n",
    "\n",
    "def weighted_bce(preds, labels, pos_weight):\n",
    "    return -np.mean(pos_weight * labels * np.log(preds + 1e-6) +\n",
    "                    (1 - labels) * np.log(1 - preds + 1e-6))\n",
    "\n",
    "class_weights = np.array([1.0, len(y_train) / (2 * np.bincount(y_train)[1])])\n",
    "\n",
    "def cost(params, X, y):\n",
    "    preds = np.array([hybrid_model(x, params) for x in X], requires_grad=True)\n",
    "    bce = weighted_bce(preds, y, pos_weight=class_weights[1])\n",
    "    reg = 0.001 * np.sum(params ** 2)\n",
    "    return bce + reg\n",
    "\n",
    "def compute_metrics(params, X, y):\n",
    "    preds = [hybrid_model(x, params) > 0.5 for x in X]\n",
    "    acc = accuracy_score(y, preds)\n",
    "    prec = precision_score(y, preds, zero_division=0)\n",
    "    rec = recall_score(y, preds, zero_division=0)\n",
    "    f1 = f1_score(y, preds, zero_division=0)\n",
    "    return acc, prec, rec, f1\n",
    "    \n"
   ]
  },
  {
   "cell_type": "code",
   "execution_count": 6,
   "id": "0f5d4f07",
   "metadata": {
    "execution": {
     "iopub.execute_input": "2025-05-30T17:19:21.440036Z",
     "iopub.status.busy": "2025-05-30T17:19:21.439852Z",
     "iopub.status.idle": "2025-05-30T17:45:54.796914Z",
     "shell.execute_reply": "2025-05-30T17:45:54.796305Z"
    },
    "papermill": {
     "duration": 1593.36286,
     "end_time": "2025-05-30T17:45:54.798770",
     "exception": false,
     "start_time": "2025-05-30T17:19:21.435910",
     "status": "completed"
    },
    "tags": []
   },
   "outputs": [
    {
     "name": "stdout",
     "output_type": "stream",
     "text": [
      "Epoch 0 | Loss: 0.6077\n",
      "Train - Acc: 0.3736, Prec: 0.0000, Rec: 0.0000, F1: 0.0000\n",
      "Test  - Acc: 0.3684, Prec: 0.0000, Rec: 0.0000, F1: 0.0000\n",
      "Epoch 10 | Loss: 0.6018\n",
      "Train - Acc: 0.6264, Prec: 0.6264, Rec: 1.0000, F1: 0.7703\n",
      "Test  - Acc: 0.6316, Prec: 0.6316, Rec: 1.0000, F1: 0.7742\n",
      "Epoch 20 | Loss: 0.5975\n",
      "Train - Acc: 0.6264, Prec: 0.6264, Rec: 1.0000, F1: 0.7703\n",
      "Test  - Acc: 0.6316, Prec: 0.6316, Rec: 1.0000, F1: 0.7742\n",
      "Epoch 30 | Loss: 0.5968\n",
      "Train - Acc: 0.6264, Prec: 0.6264, Rec: 1.0000, F1: 0.7703\n",
      "Test  - Acc: 0.6316, Prec: 0.6316, Rec: 1.0000, F1: 0.7742\n",
      "Epoch 40 | Loss: 0.5957\n",
      "Train - Acc: 0.6264, Prec: 0.6264, Rec: 1.0000, F1: 0.7703\n",
      "Test  - Acc: 0.6316, Prec: 0.6316, Rec: 1.0000, F1: 0.7742\n",
      "Epoch 50 | Loss: 0.5880\n",
      "Train - Acc: 0.6264, Prec: 0.6264, Rec: 1.0000, F1: 0.7703\n",
      "Test  - Acc: 0.6316, Prec: 0.6316, Rec: 1.0000, F1: 0.7742\n",
      "Epoch 60 | Loss: 0.5499\n",
      "Train - Acc: 0.6264, Prec: 0.6264, Rec: 1.0000, F1: 0.7703\n",
      "Test  - Acc: 0.6316, Prec: 0.6316, Rec: 1.0000, F1: 0.7742\n",
      "Epoch 70 | Loss: 0.4666\n",
      "Train - Acc: 0.6264, Prec: 0.6264, Rec: 1.0000, F1: 0.7703\n",
      "Test  - Acc: 0.6316, Prec: 0.6316, Rec: 1.0000, F1: 0.7742\n",
      "Epoch 80 | Loss: 0.3763\n",
      "Train - Acc: 0.8868, Prec: 0.8470, Rec: 1.0000, F1: 0.9171\n",
      "Test  - Acc: 0.9298, Prec: 0.9000, Rec: 1.0000, F1: 0.9474\n",
      "Epoch 90 | Loss: 0.3160\n",
      "Train - Acc: 0.9385, Prec: 0.9105, Rec: 1.0000, F1: 0.9532\n",
      "Test  - Acc: 0.9561, Prec: 0.9351, Rec: 1.0000, F1: 0.9664\n"
     ]
    }
   ],
   "source": [
    "np.random.seed(42)\n",
    "params = np.random.uniform(-0.1, 0.1, 23, requires_grad=True)\n",
    "opt = qml.AdamOptimizer(0.01)\n",
    "epochs = 100\n",
    "\n",
    "train_losses = []\n",
    "test_losses = []\n",
    "train_accs = []\n",
    "test_accs = []\n",
    "best_acc = 0\n",
    "best_epo = 0\n",
    "best_param = []\n",
    "for epoch in range(epochs):\n",
    "    params = opt.step(lambda p: cost(p, X_train, y_train), params)\n",
    "    \n",
    "    train_loss = cost(params, X_train, y_train)\n",
    "    test_loss = cost(params, X_test, y_test)\n",
    "    \n",
    "    # Compute metrics for train and test sets\n",
    "    train_acc, train_prec, train_rec, train_f1 = compute_metrics(params, X_train, y_train)\n",
    "    test_acc, test_prec, test_rec, test_f1 = compute_metrics(params, X_test, y_test)\n",
    "\n",
    "    # Store metrics\n",
    "    train_accs.append(train_acc)\n",
    "    test_accs.append(test_acc)\n",
    "    train_losses.append(train_loss)\n",
    "    test_losses.append(test_loss)\n",
    "\n",
    "    # Track best test accuracy\n",
    "    if test_acc > best_acc:\n",
    "        best_acc = test_acc\n",
    "        best_epo = epoch\n",
    "        best_params = params.copy()\n",
    "\n",
    "    if epoch % 10 == 0:\n",
    "        print(f\"Epoch {epoch} | Loss: {train_loss:.4f}\")\n",
    "        print(f\"Train - Acc: {train_acc:.4f}, Prec: {train_prec:.4f}, Rec: {train_rec:.4f}, F1: {train_f1:.4f}\")\n",
    "        print(f\"Test  - Acc: {test_acc:.4f}, Prec: {test_prec:.4f}, Rec: {test_rec:.4f}, F1: {test_f1:.4f}\")\n",
    "\n"
   ]
  },
  {
   "cell_type": "code",
   "execution_count": 7,
   "id": "8fc4a66f",
   "metadata": {
    "execution": {
     "iopub.execute_input": "2025-05-30T17:45:54.809296Z",
     "iopub.status.busy": "2025-05-30T17:45:54.809068Z",
     "iopub.status.idle": "2025-05-30T17:45:59.409574Z",
     "shell.execute_reply": "2025-05-30T17:45:59.408814Z"
    },
    "papermill": {
     "duration": 4.606369,
     "end_time": "2025-05-30T17:45:59.410660",
     "exception": false,
     "start_time": "2025-05-30T17:45:54.804291",
     "status": "completed"
    },
    "tags": []
   },
   "outputs": [
    {
     "name": "stdout",
     "output_type": "stream",
     "text": [
      "\n",
      "Final Results with Best Parameters (Epoch 91):\n",
      "Train - Acc: 0.9451, Prec: 0.9194, Rec: 1.0000, F1: 0.9580\n",
      "Test  - Acc: 0.9649, Prec: 0.9474, Rec: 1.0000, F1: 0.9730\n"
     ]
    }
   ],
   "source": [
    "# Final evaluation with best parameters\n",
    "print(\"\\nFinal Results with Best Parameters (Epoch {}):\".format(best_epo))\n",
    "train_acc, train_prec, train_rec, train_f1 = compute_metrics(best_params, X_train, y_train)\n",
    "test_acc, test_prec, test_rec, test_f1 = compute_metrics(best_params, X_test, y_test)\n",
    "print(f\"Train - Acc: {train_acc:.4f}, Prec: {train_prec:.4f}, Rec: {train_rec:.4f}, F1: {train_f1:.4f}\")\n",
    "print(f\"Test  - Acc: {test_acc:.4f}, Prec: {test_prec:.4f}, Rec: {test_rec:.4f}, F1: {test_f1:.4f}\")"
   ]
  },
  {
   "cell_type": "code",
   "execution_count": 8,
   "id": "c693ab1a",
   "metadata": {
    "execution": {
     "iopub.execute_input": "2025-05-30T17:45:59.424828Z",
     "iopub.status.busy": "2025-05-30T17:45:59.424597Z",
     "iopub.status.idle": "2025-05-30T17:46:00.226296Z",
     "shell.execute_reply": "2025-05-30T17:46:00.225507Z"
    },
    "papermill": {
     "duration": 0.808539,
     "end_time": "2025-05-30T17:46:00.228009",
     "exception": false,
     "start_time": "2025-05-30T17:45:59.419470",
     "status": "completed"
    },
    "tags": []
   },
   "outputs": [
    {
     "data": {
      "image/png": "[encoded data removed]",
      "text/plain": [
       "<Figure size 1200x500 with 2 Axes>"
      ]
     },
     "metadata": {},
     "output_type": "display_data"
    }
   ],
   "source": [
    "# Plotting accuracy and loss\n",
    "plt.figure(figsize=(12, 5))\n",
    "\n",
    "# Accuracy plot\n",
    "plt.subplot(1, 2, 1)\n",
    "plt.plot(range(epochs), train_accs, label='Train Accuracy')\n",
    "plt.plot(range(epochs), test_accs, label='Test Accuracy')\n",
    "plt.title('Training and Testing Accuracy per Epoch')\n",
    "plt.xlabel('Epoch')\n",
    "plt.ylabel('Accuracy')\n",
    "plt.legend()\n",
    "plt.grid(True)\n",
    "\n",
    "# Loss plot\n",
    "plt.subplot(1, 2, 2)\n",
    "plt.plot(range(epochs), train_losses, label='Train Loss')\n",
    "plt.plot(range(epochs), test_losses, label='Test Loss')\n",
    "plt.title('Training and Testing Loss per Epoch')\n",
    "plt.xlabel('Epoch')\n",
    "plt.ylabel('Loss')\n",
    "plt.legend()\n",
    "plt.grid(True)\n",
    "\n",
    "plt.tight_layout()\n",
    "plt.savefig('training_metrics.png')\n"
   ]
  },
  {
   "cell_type": "code",
   "execution_count": null,
   "id": "bac1ab33",
   "metadata": {
    "papermill": {
     "duration": 0.005,
     "end_time": "2025-05-30T17:46:00.238723",
     "exception": false,
     "start_time": "2025-05-30T17:46:00.233723",
     "status": "completed"
    },
    "tags": []
   },
   "outputs": [],
   "source": []
  }
 ],
 "metadata": {
  "kaggle": {
   "accelerator": "nvidiaTeslaT4",
   "dataSources": [],
   "dockerImageVersionId": 31041,
   "isGpuEnabled": true,
   "isInternetEnabled": true,
   "language": "python",
   "sourceType": "notebook"
  },
  "kernelspec": {
   "display_name": "Python 3",
   "language": "python",
   "name": "python3"
  },
  "language_info": {
   "codemirror_mode": {
    "name": "ipython",
    "version": 3
   },
   "file_extension": ".py",
   "mimetype": "text/x-python",
   "name": "python",
   "nbconvert_exporter": "python",
   "pygments_lexer": "ipython3",
   "version": "3.11.11"
  },
  "papermill": {
   "default_parameters": {},
   "duration": 1628.736358,
   "end_time": "2025-05-30T17:46:03.565062",
   "environment_variables": {},
   "exception": null,
   "input_path": "__notebook__.ipynb",
   "output_path": "__notebook__.ipynb",
   "parameters": {},
   "start_time": "2025-05-30T17:18:54.828704",
   "version": "2.6.0"
  }
 },
 "nbformat": 4,
 "nbformat_minor": 5
}
